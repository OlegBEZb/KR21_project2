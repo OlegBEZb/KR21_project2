{
 "cells": [
  {
   "cell_type": "code",
   "execution_count": 11,
   "id": "fa5cc6a0",
   "metadata": {},
   "outputs": [],
   "source": [
    "from BayesNet import BayesNet\n",
    "import networkx as nx"
   ]
  },
  {
   "cell_type": "code",
   "execution_count": 12,
   "id": "d1775bb0",
   "metadata": {},
   "outputs": [
    {
     "data": {
      "image/png": "[encoded data removed]",
      "text/plain": [
       "<Figure size 432x288 with 1 Axes>"
      ]
     },
     "metadata": {},
     "output_type": "display_data"
    }
   ],
   "source": [
    "bn = BayesNet()\n",
    "bn.load_from_bifxml('testing/dog_problem.BIFXML')\n",
    "bn.draw_structure()"
   ]
  },
  {
   "cell_type": "code",
   "execution_count": 14,
   "id": "1a163d76",
   "metadata": {},
   "outputs": [
    {
     "data": {
      "text/html": [
       "<div>\n",
       "<style scoped>\n",
       "    .dataframe tbody tr th:only-of-type {\n",
       "        vertical-align: middle;\n",
       "    }\n",
       "\n",
       "    .dataframe tbody tr th {\n",
       "        vertical-align: top;\n",
       "    }\n",
       "\n",
       "    .dataframe thead th {\n",
       "        text-align: right;\n",
       "    }\n",
       "</style>\n",
       "<table border=\"1\" class=\"dataframe\">\n",
       "  <thead>\n",
       "    <tr style=\"text-align: right;\">\n",
       "      <th></th>\n",
       "      <th>family-out</th>\n",
       "      <th>light-on</th>\n",
       "      <th>p</th>\n",
       "    </tr>\n",
       "  </thead>\n",
       "  <tbody>\n",
       "    <tr>\n",
       "      <th>0</th>\n",
       "      <td>False</td>\n",
       "      <td>False</td>\n",
       "      <td>0.60</td>\n",
       "    </tr>\n",
       "    <tr>\n",
       "      <th>1</th>\n",
       "      <td>False</td>\n",
       "      <td>True</td>\n",
       "      <td>0.40</td>\n",
       "    </tr>\n",
       "    <tr>\n",
       "      <th>2</th>\n",
       "      <td>True</td>\n",
       "      <td>False</td>\n",
       "      <td>0.05</td>\n",
       "    </tr>\n",
       "    <tr>\n",
       "      <th>3</th>\n",
       "      <td>True</td>\n",
       "      <td>True</td>\n",
       "      <td>0.95</td>\n",
       "    </tr>\n",
       "  </tbody>\n",
       "</table>\n",
       "</div>"
      ],
      "text/plain": [
       "   family-out  light-on     p\n",
       "0       False     False  0.60\n",
       "1       False      True  0.40\n",
       "2        True     False  0.05\n",
       "3        True      True  0.95"
      ]
     },
     "execution_count": 14,
     "metadata": {},
     "output_type": "execute_result"
    }
   ],
   "source": [
    "bn.get_cpt('light-on')"
   ]
  },
  {
   "cell_type": "code",
   "execution_count": 10,
   "id": "d54fb7ec",
   "metadata": {},
   "outputs": [
    {
     "name": "stdout",
     "output_type": "stream",
     "text": [
      "considering node: ('light-on', 'up')\n",
      "considering node: ('family-out', 'up')\n",
      "considering node: ('dog-out', 'down')\n",
      "considering node: ('family-out', 'up')\n",
      "considering node: ('bowel-problem', 'up')\n",
      "considering node: ('dog-out', 'down')\n",
      "considering node: ('hear-bark', 'down')\n",
      "considering node: ('dog-out', 'up')\n",
      "considering node: ('hear-bark', 'down')\n",
      "considering node: ('family-out', 'up')\n",
      "considering node: ('bowel-problem', 'up')\n",
      "considering node: ('light-on', 'down')\n"
     ]
    },
    {
     "data": {
      "text/plain": [
       "True"
      ]
     },
     "execution_count": 10,
     "metadata": {},
     "output_type": "execute_result"
    }
   ],
   "source": [
    "bn.d_separated('light-on', 'bowel-problem', ['hear-bark'])"
   ]
  },
  {
   "cell_type": "code",
   "execution_count": 9,
   "id": "155f60f6",
   "metadata": {},
   "outputs": [
    {
     "data": {
      "text/plain": [
       "True"
      ]
     },
     "execution_count": 9,
     "metadata": {},
     "output_type": "execute_result"
    }
   ],
   "source": [
    "(1, 2) not in set()"
   ]
  },
  {
   "cell_type": "code",
   "execution_count": 4,
   "id": "32afea64",
   "metadata": {},
   "outputs": [
    {
     "data": {
      "text/plain": [
       "{'bowel-problem', 'dog-out', 'family-out'}"
      ]
     },
     "execution_count": 4,
     "metadata": {},
     "output_type": "execute_result"
    }
   ],
   "source": [
    "bn.find_observed_ancestors(['dog-out'])"
   ]
  },
  {
   "cell_type": "code",
   "execution_count": 5,
   "id": "0f8000f4",
   "metadata": {},
   "outputs": [
    {
     "data": {
      "text/plain": [
       "['light-on', 'bowel-problem', 'dog-out', 'hear-bark', 'family-out']"
      ]
     },
     "execution_count": 5,
     "metadata": {},
     "output_type": "execute_result"
    }
   ],
   "source": [
    "bn.get_all_variables()"
   ]
  },
  {
   "cell_type": "code",
   "execution_count": 6,
   "id": "fb1e9d14",
   "metadata": {
    "scrolled": true
   },
   "outputs": [
    {
     "data": {
      "text/html": [
       "<div>\n",
       "<style scoped>\n",
       "    .dataframe tbody tr th:only-of-type {\n",
       "        vertical-align: middle;\n",
       "    }\n",
       "\n",
       "    .dataframe tbody tr th {\n",
       "        vertical-align: top;\n",
       "    }\n",
       "\n",
       "    .dataframe thead th {\n",
       "        text-align: right;\n",
       "    }\n",
       "</style>\n",
       "<table border=\"1\" class=\"dataframe\">\n",
       "  <thead>\n",
       "    <tr style=\"text-align: right;\">\n",
       "      <th></th>\n",
       "      <th>family-out</th>\n",
       "      <th>bowel-problem</th>\n",
       "      <th>dog-out</th>\n",
       "      <th>p</th>\n",
       "    </tr>\n",
       "  </thead>\n",
       "  <tbody>\n",
       "    <tr>\n",
       "      <th>0</th>\n",
       "      <td>False</td>\n",
       "      <td>False</td>\n",
       "      <td>False</td>\n",
       "      <td>0.99</td>\n",
       "    </tr>\n",
       "    <tr>\n",
       "      <th>1</th>\n",
       "      <td>False</td>\n",
       "      <td>False</td>\n",
       "      <td>True</td>\n",
       "      <td>0.01</td>\n",
       "    </tr>\n",
       "    <tr>\n",
       "      <th>2</th>\n",
       "      <td>False</td>\n",
       "      <td>True</td>\n",
       "      <td>False</td>\n",
       "      <td>0.97</td>\n",
       "    </tr>\n",
       "    <tr>\n",
       "      <th>3</th>\n",
       "      <td>False</td>\n",
       "      <td>True</td>\n",
       "      <td>True</td>\n",
       "      <td>0.03</td>\n",
       "    </tr>\n",
       "    <tr>\n",
       "      <th>4</th>\n",
       "      <td>True</td>\n",
       "      <td>False</td>\n",
       "      <td>False</td>\n",
       "      <td>0.90</td>\n",
       "    </tr>\n",
       "    <tr>\n",
       "      <th>5</th>\n",
       "      <td>True</td>\n",
       "      <td>False</td>\n",
       "      <td>True</td>\n",
       "      <td>0.10</td>\n",
       "    </tr>\n",
       "    <tr>\n",
       "      <th>6</th>\n",
       "      <td>True</td>\n",
       "      <td>True</td>\n",
       "      <td>False</td>\n",
       "      <td>0.30</td>\n",
       "    </tr>\n",
       "    <tr>\n",
       "      <th>7</th>\n",
       "      <td>True</td>\n",
       "      <td>True</td>\n",
       "      <td>True</td>\n",
       "      <td>0.70</td>\n",
       "    </tr>\n",
       "  </tbody>\n",
       "</table>\n",
       "</div>"
      ],
      "text/plain": [
       "   family-out  bowel-problem  dog-out     p\n",
       "0       False          False    False  0.99\n",
       "1       False          False     True  0.01\n",
       "2       False           True    False  0.97\n",
       "3       False           True     True  0.03\n",
       "4        True          False    False  0.90\n",
       "5        True          False     True  0.10\n",
       "6        True           True    False  0.30\n",
       "7        True           True     True  0.70"
      ]
     },
     "execution_count": 6,
     "metadata": {},
     "output_type": "execute_result"
    }
   ],
   "source": [
    "bn.get_cpt('dog-out')"
   ]
  },
  {
   "cell_type": "code",
   "execution_count": 7,
   "id": "353a9bb6",
   "metadata": {},
   "outputs": [
    {
     "data": {
      "text/plain": [
       "['family-out', 'bowel-problem', 'dog-out']"
      ]
     },
     "execution_count": 7,
     "metadata": {},
     "output_type": "execute_result"
    }
   ],
   "source": [
    "list(bn.get_cpt('dog-out').columns)[:-1]"
   ]
  },
  {
   "cell_type": "code",
   "execution_count": 8,
   "id": "b7a3e261",
   "metadata": {},
   "outputs": [
    {
     "data": {
      "text/plain": [
       "True"
      ]
     },
     "execution_count": 8,
     "metadata": {},
     "output_type": "execute_result"
    }
   ],
   "source": [
    "bn.structure.is_directed()"
   ]
  },
  {
   "cell_type": "code",
   "execution_count": 7,
   "id": "24939800",
   "metadata": {},
   "outputs": [],
   "source": [
    "G = bn.get_interaction_graph()"
   ]
  },
  {
   "cell_type": "code",
   "execution_count": 9,
   "id": "fa155c10",
   "metadata": {},
   "outputs": [],
   "source": [
    "G = bn.structure"
   ]
  },
  {
   "cell_type": "code",
   "execution_count": null,
   "id": "3ce443f6",
   "metadata": {},
   "outputs": [],
   "source": []
  },
  {
   "cell_type": "code",
   "execution_count": 10,
   "id": "912549e0",
   "metadata": {},
   "outputs": [
    {
     "data": {
      "text/plain": [
       "<matplotlib.collections.LineCollection at 0x7f7f823811f0>"
      ]
     },
     "execution_count": 10,
     "metadata": {},
     "output_type": "execute_result"
    },
    {
     "data": {
      "image/png": "[encoded data removed]",
      "text/plain": [
       "<Figure size 432x288 with 1 Axes>"
      ]
     },
     "metadata": {},
     "output_type": "display_data"
    }
   ],
   "source": [
    "# Need to create a layout when doing\n",
    "# separate calls to draw nodes and edges\n",
    "pos = nx.spring_layout(G)\n",
    "nx.draw_networkx_nodes(G, pos, node_size = 500)\n",
    "nx.draw_networkx_labels(G, pos)\n",
    "\n",
    "\n",
    "black_edges = [edge for edge in G.edges()]\n",
    "nx.draw_networkx_edges(G, pos, edgelist=black_edges, arrows=False)"
   ]
  },
  {
   "cell_type": "code",
   "execution_count": 14,
   "id": "9de18b80",
   "metadata": {},
   "outputs": [
    {
     "name": "stdout",
     "output_type": "stream",
     "text": [
      "['bowel-problem', 'dog-out', 'hear-bark']\n",
      "['bowel-problem', 'dog-out', 'family-out', 'light-on']\n"
     ]
    }
   ],
   "source": [
    "for path in nx.all_simple_paths(bn.structure_unidirected, 'bowel-problem', ['light-on', 'hear-bark']):\n",
    "    print(path)"
   ]
  },
  {
   "cell_type": "code",
   "execution_count": 61,
   "id": "0b07af6f",
   "metadata": {},
   "outputs": [
    {
     "data": {
      "text/plain": [
       "<networkx.classes.graph.Graph at 0x7ff481820760>"
      ]
     },
     "execution_count": 61,
     "metadata": {},
     "output_type": "execute_result"
    }
   ],
   "source": [
    "G.to_undirected()"
   ]
  }
 ],
 "metadata": {
  "kernelspec": {
   "display_name": "Python 3",
   "language": "python",
   "name": "python3"
  },
  "language_info": {
   "codemirror_mode": {
    "name": "ipython",
    "version": 3
   },
   "file_extension": ".py",
   "mimetype": "text/x-python",
   "name": "python",
   "nbconvert_exporter": "python",
   "pygments_lexer": "ipython3",
   "version": "3.8.8"
  },
  "toc": {
   "base_numbering": 1,
   "nav_menu": {},
   "number_sections": true,
   "sideBar": true,
   "skip_h1_title": false,
   "title_cell": "Table of Contents",
   "title_sidebar": "Contents",
   "toc_cell": false,
   "toc_position": {},
   "toc_section_display": true,
   "toc_window_display": false
  }
 },
 "nbformat": 4,
 "nbformat_minor": 5
}
